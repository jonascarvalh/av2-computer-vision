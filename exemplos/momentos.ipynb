{
 "cells": [
  {
   "cell_type": "markdown",
   "metadata": {},
   "source": [
    "# Extração de características Inerciais\n",
    "\n",
    "As características inerciais definem informações sobre os momentos, o centro geométrico e as formas geométricas envolventes de um objeto de interesse.\n",
    "\n",
    "É possível através dessas características reconhecer objetos mesmo que tenham sofrido alterações na escala, rotação ou translação.\n",
    "\n",
    "\n"
   ]
  },
  {
   "cell_type": "code",
   "execution_count": 1,
   "metadata": {},
   "outputs": [],
   "source": [
    "#Importando biliotecas e lendo imagem\n",
    "import cv2\n",
    "\n",
    "img = cv2.imread(\"circle.jpg\",0)"
   ]
  },
  {
   "cell_type": "markdown",
   "metadata": {},
   "source": [
    "### Momentos de uma imagem\n",
    "\n",
    "Os momentos de uma imagem, também conhecido como momentos estatísticos, é um dos principais métodos para extração de características. São obtidos por funções matemáticas, com base estatísticas, que fornecem valores que representam um determinado objeto.\n",
    "\n",
    "Através de imagens binárias podemos calcular esses momentos. A função **moments** extrai essas características retornando 24 momentos que caracterizam a imagem.\n"
   ]
  },
  {
   "cell_type": "code",
   "execution_count": 2,
   "metadata": {},
   "outputs": [
    {
     "name": "stdout",
     "output_type": "stream",
     "text": [
      "24\n",
      "{'m00': 9740472.0, 'm10': 1450751967.0, 'm01': 1414048943.0, 'm20': 247066445923.0, 'm11': 210617730829.0, 'm02': 235272834855.0, 'm30': 46083717823557.0, 'm21': 35917968379499.0, 'm12': 35061438839295.0, 'm03': 42998284860185.0, 'mu20': 30990544287.599884, 'mu11': 8400450.398132324, 'mu02': 29991775251.37735, 'mu30': 53985530320.72656, 'mu21': 48205533503.196815, 'mu12': 17317235786.488758, 'mu03': 135169024614.21875, 'nu20': 0.0003266398739391575, 'nu11': 8.854062173332019e-08, 'nu02': 0.0003161128632142572, 'nu30': 1.823170841030612e-07, 'nu21': 1.627971838698608e-07, 'nu12': 5.848285484204391e-08, 'nu03': 4.56485696858254e-07}\n"
     ]
    }
   ],
   "source": [
    "momentos = cv2.moments(img)\n",
    "\n",
    "print(len(momentos))\n",
    "print(momentos)"
   ]
  },
  {
   "cell_type": "code",
   "execution_count": null,
   "metadata": {},
   "outputs": [],
   "source": []
  }
 ],
 "metadata": {
  "kernelspec": {
   "display_name": "Python 3 (ipykernel)",
   "language": "python",
   "name": "python3"
  },
  "language_info": {
   "codemirror_mode": {
    "name": "ipython",
    "version": 3
   },
   "file_extension": ".py",
   "mimetype": "text/x-python",
   "name": "python",
   "nbconvert_exporter": "python",
   "pygments_lexer": "ipython3",
   "version": "3.12.2"
  }
 },
 "nbformat": 4,
 "nbformat_minor": 4
}
